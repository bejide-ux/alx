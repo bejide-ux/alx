{
  "cells": [
    {
      "cell_type": "markdown",
      "metadata": {
        "id": "view-in-github",
        "colab_type": "text"
      },
      "source": [
        "<a href=\"https://colab.research.google.com/github/bejide-ux/alx/blob/main/TEMERATURE.ipynb\" target=\"_parent\"><img src=\"https://colab.research.google.com/assets/colab-badge.svg\" alt=\"Open In Colab\"/></a>"
      ]
    },
    {
      "cell_type": "code",
      "execution_count": null,
      "metadata": {
        "id": "zwFnJsE6vjf8"
      },
      "outputs": [],
      "source": []
    },
    {
      "cell_type": "code",
      "source": [
        "import math\n",
        "\n",
        "# Function to calculate T1\n",
        "def calculate_T1(T_opt):\n",
        "    T1 = 0.8 + 0.02 * T_opt - 0.0005 * (T_opt ** 2)\n",
        "    return T1\n",
        "\n",
        "# Function to calculate T2\n",
        "def calculate_T2(T_opt, T_actual):\n",
        "    numerator = 1.1814\n",
        "    denominator = (1 + math.exp(0.2 * (T_opt - 10 - T_actual))) / (1 + math.exp(0.3 * (-T_opt - 10 + T_actual)))\n",
        "    T2 = numerator / denominator\n",
        "    return T2\n",
        "\n",
        "# Example usage\n",
        "T_opt = 25.42 # Optimal temperature (example value)\n",
        "T_actual = 24.94 # Actual temperature (example value)\n",
        "\n",
        "T1_value = calculate_T1(T_opt)\n",
        "T2_value = calculate_T2(T_opt, T_actual)\n",
        "\n",
        "print(f\"T1({T_opt}) = {T1_value}\")\n",
        "print(f\"T2({T_opt}, {T_actual}) = {T2_value}\")\n"
      ],
      "metadata": {
        "id": "1ZWjs4CVqoQq",
        "outputId": "64522589-1b6a-47e1-ef79-f73328ab6706",
        "colab": {
          "base_uri": "https://localhost:8080/"
        }
      },
      "execution_count": null,
      "outputs": [
        {
          "output_type": "stream",
          "name": "stdout",
          "text": [
            "T1(25.42) = 0.9853118000000002\n",
            "T2(25.42, 24.94) = 1.0725506474267548\n"
          ]
        }
      ]
    },
    {
      "cell_type": "code",
      "source": [
        "import math\n",
        "\n",
        "def temperature_function(T, Topt, d):\n",
        "    \"\"\"\n",
        "    Calculate the temperature-dependent function value.\n",
        "\n",
        "    Parameters:\n",
        "    T : float\n",
        "        Current temperature\n",
        "    Topt : float\n",
        "        Optimal temperature\n",
        "    d : float\n",
        "        Shape parameter\n",
        "\n",
        "    Returns:\n",
        "    float : The calculated function value\n",
        "    \"\"\"\n",
        "    numerator = 1.1814\n",
        "    denominator = (1 + math.exp(0.2 * (Topt - 10*d))) * (1 + math.exp(0.3 * (T - Topt)))\n",
        "    return numerator / denominator\n",
        "\n",
        "# Example usage:\n",
        "T = 25  # Current temperature\n",
        "Topt = 30  # Optimal temperature\n",
        "d = 0.5  # Shape parameter\n",
        "\n",
        "result = temperature_function(T, Topt, d)\n",
        "print(f\"Result for T={T}, Topt={Topt}, d={d}: {result}\")\n",
        "\n"
      ],
      "metadata": {
        "colab": {
          "base_uri": "https://localhost:8080/"
        },
        "id": "kM2P2fwDtwp4",
        "outputId": "94079bcc-2d32-4d50-969e-d7188c1b6333"
      },
      "execution_count": null,
      "outputs": [
        {
          "output_type": "stream",
          "name": "stdout",
          "text": [
            "Result for T=25, Topt=30, d=0.5: 0.006464507490348045\n"
          ]
        }
      ]
    },
    {
      "cell_type": "code",
      "source": [
        "import math\n",
        "\n",
        "# Function to calculate T1\n",
        "def calculate_T1(T_opt):\n",
        "    T1 = 0.8 + 0.02 * T_opt - 0.0005 * (T_opt ** 2)\n",
        "    return T1\n",
        "\n",
        "# Function to calculate T2\n",
        "def calculate_T2(T_opt, T):\n",
        "    numerator = 1.1814\n",
        "    exp1 = math.exp(0.2 * (T_opt - 10 - T))\n",
        "    exp2 = math.exp(0.3 * (-T_opt - 10 - T))\n",
        "    denominator = (1 + exp1) / (1 + exp2)\n",
        "    T2 = numerator / denominator\n",
        "    return T2\n",
        "\n",
        "# Example usage\n",
        "T_opt = 25.42 # Optimal temperature (example value)\n",
        "T = 24.94 # Actual temperature (example value)\n",
        "\n",
        "T1_value = calculate_T1(T_opt)\n",
        "T2_value = calculate_T2(T_opt, T)\n",
        "\n",
        "print(f\"T1({T_opt}) = {T1_value}\")\n",
        "print(f\"T2({T_opt}, {T}) = {T2_value}\")\n",
        "\n"
      ],
      "metadata": {
        "colab": {
          "base_uri": "https://localhost:8080/"
        },
        "id": "2P5O6nIwb6h0",
        "outputId": "220926a2-fff5-4d28-f7ac-395c41438bd8"
      },
      "execution_count": null,
      "outputs": [
        {
          "output_type": "stream",
          "name": "stdout",
          "text": [
            "T1(25.42) = 0.9853118000000002\n",
            "T2(25.42, 24.94) = 1.0282239161975155\n"
          ]
        }
      ]
    },
    {
      "cell_type": "code",
      "source": [
        "import math\n",
        "\n",
        "# Function to calculate T2\n",
        "def calculate_T2(T_opt, T):\n",
        "    numerator = 1.1814\n",
        "    exp1 = math.exp(0.2 * (T_opt - 10 - T))\n",
        "    exp2 = math.exp(0.3 * (-T_opt - 10 - T))\n",
        "    denominator = (1 + exp1) / (1 + exp2)\n",
        "    T2 = numerator / denominator\n",
        "    return T2\n",
        "\n",
        "# Example usage\n",
        "T_opt = 25.42 # Optimal temperature (example value)\n",
        "T = 24.94 # Actual temperature (example value)\n",
        "\n",
        "T2_value = calculate_T2(T_opt, T)\n",
        "\n",
        "print(f\"T2({T_opt}, {T}) = {T2_value}\")\n"
      ],
      "metadata": {
        "colab": {
          "base_uri": "https://localhost:8080/"
        },
        "id": "4Zkz0LB_frRS",
        "outputId": "7f1c69ae-8b8d-43df-e126-80aca354872d"
      },
      "execution_count": null,
      "outputs": [
        {
          "output_type": "stream",
          "name": "stdout",
          "text": [
            "T2(25.42, 24.94) = 1.0282239161975155\n"
          ]
        }
      ]
    },
    {
      "cell_type": "code",
      "source": [
        "import math\n",
        "\n",
        "# Define CASA model parameters\n",
        "LUE = 0.389  # Light Use Efficiency\n",
        "TOTAL_PAR = 1395.7  # Total PAR (Photosynthetically Active Radiation)\n",
        "T_opt = 25.42  # Optimal temperature\n",
        "T_actual = 24.94  # Actual temperature\n",
        "\n",
        "# Calculate T1 and T2\n",
        "def calculate_T1(T_opt):\n",
        "    return 0.8 + 0.02 * T_opt - 0.0005 * (T_opt ** 2)\n",
        "\n",
        "def calculate_T2(T_opt, T_actual):\n",
        "    numerator = 1.1814\n",
        "    denominator = (1 + math.exp(0.2 * (T_opt - 10 - T_actual))) / (1 + math.exp(0.3 * (-T_opt - 10 + T_actual)))\n",
        "    return numerator / denominator\n",
        "\n",
        "T1 = calculate_T1(T_opt)\n",
        "T2 = calculate_T2(T_opt, T_actual)\n",
        "\n",
        "# Calculate NPP\n",
        "NPP = LUE * TOTAL_PAR * T1 * T2\n",
        "print(f\"NPP: {NPP} g C/m²/year\")\n"
      ],
      "metadata": {
        "id": "KceK_FhbjVJX",
        "outputId": "1227de27-b110-4a20-8b06-244cbc9c2ec9",
        "colab": {
          "base_uri": "https://localhost:8080/"
        }
      },
      "execution_count": null,
      "outputs": [
        {
          "output_type": "stream",
          "name": "stdout",
          "text": [
            "NPP: 573.7638381629064 g C/m²/year\n"
          ]
        }
      ]
    }
  ],
  "metadata": {
    "colab": {
      "provenance": [],
      "include_colab_link": true
    },
    "kernelspec": {
      "display_name": "Python 3",
      "name": "python3"
    }
  },
  "nbformat": 4,
  "nbformat_minor": 0
}