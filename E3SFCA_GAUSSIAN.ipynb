{
  "nbformat": 4,
  "nbformat_minor": 0,
  "metadata": {
    "colab": {
      "provenance": [],
      "authorship_tag": "ABX9TyP/enE1BXZosSwT/i73bcKa",
      "include_colab_link": true
    },
    "kernelspec": {
      "name": "python3",
      "display_name": "Python 3"
    },
    "language_info": {
      "name": "python"
    }
  },
  "cells": [
    {
      "cell_type": "markdown",
      "metadata": {
        "id": "view-in-github",
        "colab_type": "text"
      },
      "source": [
        "<a href=\"https://colab.research.google.com/github/bejide-ux/alx/blob/main/E3SFCA_GAUSSIAN.ipynb\" target=\"_parent\"><img src=\"https://colab.research.google.com/assets/colab-badge.svg\" alt=\"Open In Colab\"/></a>"
      ]
    },
    {
      "cell_type": "code",
      "execution_count": null,
      "metadata": {
        "colab": {
          "base_uri": "https://localhost:8080/"
        },
        "id": "NafaylqixJyW",
        "outputId": "90312402-e870-4b70-e2d3-0a554885a74f"
      },
      "outputs": [
        {
          "output_type": "stream",
          "name": "stdout",
          "text": [
            "f(10000) = 0.9496750453827405\n",
            "f(20000) = 0.8046006492978258\n",
            "f(30000) = 0.58134021708421\n",
            "f(60000) = -0.30441610435309324\n"
          ]
        }
      ],
      "source": [
        "import numpy as np\n",
        "\n",
        "def f_dij(dij, d0):\n",
        "    # Calculate the numerator part of the equation\n",
        "    numerator = np.exp(-0.5 * (dij / d0) ** 2) - np.exp(-0.5)\n",
        "\n",
        "    # Calculate the denominator part of the equation\n",
        "    denominator = 1 - np.exp(-0.5)\n",
        "\n",
        "    # Compute the final value of f(dij)\n",
        "    result = numerator / denominator\n",
        "\n",
        "    return result\n",
        "\n",
        "# Values of dij to test\n",
        "dij_values = [10000, 20000, 30000, 60000]\n",
        "d0 = 50000  # Assuming d0 as 50000 for the calculation\n",
        "\n",
        "# Print the results for each dij value\n",
        "for dij in dij_values:\n",
        "    print(f\"f({dij}) = {f_dij(dij, d0)}\")\n"
      ]
    }
  ]
}