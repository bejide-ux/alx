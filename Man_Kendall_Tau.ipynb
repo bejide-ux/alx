{
  "cells": [
    {
      "cell_type": "markdown",
      "metadata": {
        "id": "view-in-github",
        "colab_type": "text"
      },
      "source": [
        "<a href=\"https://colab.research.google.com/github/bejide-ux/alx/blob/main/Man_Kendall_Tau.ipynb\" target=\"_parent\"><img src=\"https://colab.research.google.com/assets/colab-badge.svg\" alt=\"Open In Colab\"/></a>"
      ]
    },
    {
      "cell_type": "code",
      "execution_count": null,
      "metadata": {
        "colab": {
          "base_uri": "https://localhost:8080/",
          "height": 426
        },
        "id": "WTQ2ZEc0xAOS",
        "outputId": "e75bf0d3-ab3c-454f-afb1-9607dd81d942"
      },
      "outputs": [
        {
          "output_type": "stream",
          "name": "stdout",
          "text": [
            "Requirement already satisfied: scipy in /usr/local/lib/python3.10/dist-packages (1.13.1)\n",
            "Requirement already satisfied: numpy<2.3,>=1.22.4 in /usr/local/lib/python3.10/dist-packages (from scipy) (1.26.4)\n",
            "Requirement already satisfied: pandas in /usr/local/lib/python3.10/dist-packages (2.1.4)\n",
            "Requirement already satisfied: numpy<2,>=1.22.4 in /usr/local/lib/python3.10/dist-packages (from pandas) (1.26.4)\n",
            "Requirement already satisfied: python-dateutil>=2.8.2 in /usr/local/lib/python3.10/dist-packages (from pandas) (2.8.2)\n",
            "Requirement already satisfied: pytz>=2020.1 in /usr/local/lib/python3.10/dist-packages (from pandas) (2024.1)\n",
            "Requirement already satisfied: tzdata>=2022.1 in /usr/local/lib/python3.10/dist-packages (from pandas) (2024.1)\n",
            "Requirement already satisfied: six>=1.5 in /usr/local/lib/python3.10/dist-packages (from python-dateutil>=2.8.2->pandas) (1.16.0)\n",
            "Requirement already satisfied: numpy in /usr/local/lib/python3.10/dist-packages (1.26.4)\n",
            "Kendall's tau: 0.2967032967032967\n",
            "p-value: 0.15716301603764402\n"
          ]
        },
        {
          "output_type": "error",
          "ename": "NameError",
          "evalue": "name 'df' is not defined",
          "traceback": [
            "\u001b[0;31m---------------------------------------------------------------------------\u001b[0m",
            "\u001b[0;31mNameError\u001b[0m                                 Traceback (most recent call last)",
            "\u001b[0;32m<ipython-input-1-26afc4eb0f3d>\u001b[0m in \u001b[0;36m<cell line: 19>\u001b[0;34m()\u001b[0m\n\u001b[1;32m     17\u001b[0m \u001b[0mprint\u001b[0m\u001b[0;34m(\u001b[0m\u001b[0;34mf\"Kendall's tau: {tau}\"\u001b[0m\u001b[0;34m)\u001b[0m\u001b[0;34m\u001b[0m\u001b[0;34m\u001b[0m\u001b[0m\n\u001b[1;32m     18\u001b[0m \u001b[0mprint\u001b[0m\u001b[0;34m(\u001b[0m\u001b[0;34mf\"p-value: {p_value}\"\u001b[0m\u001b[0;34m)\u001b[0m\u001b[0;34m\u001b[0m\u001b[0;34m\u001b[0m\u001b[0m\n\u001b[0;32m---> 19\u001b[0;31m \u001b[0mprint\u001b[0m\u001b[0;34m(\u001b[0m\u001b[0mdf\u001b[0m\u001b[0;34m.\u001b[0m\u001b[0mdescribe\u001b[0m\u001b[0;34m(\u001b[0m\u001b[0;34m)\u001b[0m\u001b[0;34m)\u001b[0m\u001b[0;34m\u001b[0m\u001b[0;34m\u001b[0m\u001b[0m\n\u001b[0m\u001b[1;32m     20\u001b[0m \u001b[0;34m\u001b[0m\u001b[0m\n",
            "\u001b[0;31mNameError\u001b[0m: name 'df' is not defined"
          ]
        }
      ],
      "source": [
        "!pip install scipy\n",
        "!pip install pandas\n",
        "!pip install numpy\n",
        "import numpy as np\n",
        "from scipy.stats import kendalltau\n",
        "\n",
        "# Function to perform the Mann-Kendall trend test\n",
        "def mann_kendall_test(data):\n",
        "    tau, p_value = kendalltau(np.arange(len(data)), data)\n",
        "    return tau, p_value\n",
        "\n",
        "# Example usage\n",
        "data = [73.09,\t68.10,\t71.54,\t60.25,\t60.22,\t79.00,\t76.26,\t78.77,\t72.62,\t70.52, 74.75190684,\t75.42742915,\t76.10295145,\t76.77847376\n",
        "]\n",
        "\n",
        "tau, p_value = mann_kendall_test(data)\n",
        "print(f\"Kendall's tau: {tau}\")\n",
        "print(f\"p-value: {p_value}\")\n",
        "print(df.describe())\n",
        "\n"
      ]
    },
    {
      "source": [
        "!pip install scipy\n",
        "!pip install pandas\n",
        "!pip install numpy\n",
        "import numpy as np\n",
        "from scipy.stats import kendalltau\n",
        "import pandas as pd # Import pandas to work with DataFrames\n",
        "\n",
        "# Function to perform the Mann-Kendall trend test\n",
        "def mann_kendall_test(data):\n",
        "    tau, p_value = kendalltau(np.arange(len(data)), data)\n",
        "    return tau, p_value\n",
        "\n",
        "# Example usage\n",
        "data = [73.28216,\t68.25855,\t71.65266,\t60.42029,\t60.46512,\t79.25202,\t76.56769,\t79.2416,\t73.0669,\t70.80647\n",
        "]\n",
        "\n",
        "tau, p_value = mann_kendall_test(data)\n",
        "print(f\"Kendall's tau: {tau}\")\n",
        "print(f\"p-value: {p_value}\")\n",
        "\n",
        "df = pd.DataFrame(data, columns=['values']) # Create a DataFrame from your data\n",
        "print(df.describe()) # Now you can use describe() on the DataFrame 'df'"
      ],
      "cell_type": "code",
      "metadata": {
        "colab": {
          "base_uri": "https://localhost:8080/"
        },
        "id": "LAvwHoGj-4eI",
        "outputId": "271c57e0-c7e2-4548-9bae-28c6525aa321"
      },
      "execution_count": null,
      "outputs": [
        {
          "output_type": "stream",
          "name": "stdout",
          "text": [
            "Requirement already satisfied: scipy in /usr/local/lib/python3.10/dist-packages (1.13.1)\n",
            "Requirement already satisfied: numpy<2.3,>=1.22.4 in /usr/local/lib/python3.10/dist-packages (from scipy) (1.26.4)\n",
            "Requirement already satisfied: pandas in /usr/local/lib/python3.10/dist-packages (2.1.4)\n",
            "Requirement already satisfied: numpy<2,>=1.22.4 in /usr/local/lib/python3.10/dist-packages (from pandas) (1.26.4)\n",
            "Requirement already satisfied: python-dateutil>=2.8.2 in /usr/local/lib/python3.10/dist-packages (from pandas) (2.8.2)\n",
            "Requirement already satisfied: pytz>=2020.1 in /usr/local/lib/python3.10/dist-packages (from pandas) (2024.1)\n",
            "Requirement already satisfied: tzdata>=2022.1 in /usr/local/lib/python3.10/dist-packages (from pandas) (2024.1)\n",
            "Requirement already satisfied: six>=1.5 in /usr/local/lib/python3.10/dist-packages (from python-dateutil>=2.8.2->pandas) (1.16.0)\n",
            "Requirement already satisfied: numpy in /usr/local/lib/python3.10/dist-packages (1.26.4)\n",
            "Kendall's tau: 0.1111111111111111\n",
            "p-value: 0.7274895282186948\n",
            "          values\n",
            "count  10.000000\n",
            "mean   71.301346\n",
            "std     6.720484\n",
            "min    60.420290\n",
            "25%    68.895530\n",
            "50%    72.359780\n",
            "75%    75.746308\n",
            "max    79.252020\n"
          ]
        }
      ]
    }
  ],
  "metadata": {
    "colab": {
      "provenance": [],
      "authorship_tag": "ABX9TyOt3WailDONMYKUhymeQDtv",
      "include_colab_link": true
    },
    "kernelspec": {
      "display_name": "Python 3",
      "name": "python3"
    },
    "language_info": {
      "name": "python"
    }
  },
  "nbformat": 4,
  "nbformat_minor": 0
}